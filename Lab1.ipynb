{
  "nbformat": 4,
  "nbformat_minor": 0,
  "metadata": {
    "colab": {
      "name": "Lab1.ipynb",
      "provenance": [],
      "authorship_tag": "ABX9TyMbUN7TCXQrZCldz+tLbXOy",
      "include_colab_link": true
    },
    "kernelspec": {
      "name": "python3",
      "display_name": "Python 3"
    }
  },
  "cells": [
    {
      "cell_type": "markdown",
      "metadata": {
        "id": "view-in-github",
        "colab_type": "text"
      },
      "source": [
        "<a href=\"https://colab.research.google.com/github/laurencamp/PracticeWithWebDesign/blob/master/Lab1.ipynb\" target=\"_parent\"><img src=\"https://colab.research.google.com/assets/colab-badge.svg\" alt=\"Open In Colab\"/></a>"
      ]
    },
    {
      "cell_type": "markdown",
      "metadata": {
        "id": "dxjG2DL7pgE5",
        "colab_type": "text"
      },
      "source": [
        "#Do you like using Jupyter Notebook?"
      ]
    },
    {
      "cell_type": "markdown",
      "metadata": {
        "id": "KtYMUGzDpt67",
        "colab_type": "text"
      },
      "source": [
        "##Yes, I like using Jupyter Notebook. I am excited to learn all of its capabilities."
      ]
    },
    {
      "cell_type": "markdown",
      "metadata": {
        "id": "Uc0xJfGgqCeB",
        "colab_type": "text"
      },
      "source": [
        "# What do you want to learn more about in Jupyter Notebooks?\n",
        "##I want to learn about the different ways I can use Jupyter Notebooks. I would also like to see if it translates to any of my other IST classes."
      ]
    },
    {
      "cell_type": "markdown",
      "metadata": {
        "id": "U8Uom9hFsdV2",
        "colab_type": "text"
      },
      "source": [
        "![My Dog, Rocco](https://raw.githubusercontent.com/laurencamp/PracticeWithWebDesign/master/Images/IMG_7083%202.jpg)"
      ]
    }
  ]
}