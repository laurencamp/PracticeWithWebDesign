{
  "nbformat": 4,
  "nbformat_minor": 0,
  "metadata": {
    "colab": {
      "name": "Copy of Lab2 -10 heuristics.ipynb",
      "provenance": [],
      "include_colab_link": true
    },
    "kernelspec": {
      "name": "python3",
      "display_name": "Python 3"
    }
  },
  "cells": [
    {
      "cell_type": "markdown",
      "metadata": {
        "id": "view-in-github",
        "colab_type": "text"
      },
      "source": [
        "<a href=\"https://colab.research.google.com/github/laurencamp/PracticeWithWebDesign/blob/master/Copy_of_Lab2_10_heuristics.ipynb\" target=\"_parent\"><img src=\"https://colab.research.google.com/assets/colab-badge.svg\" alt=\"Open In Colab\"/></a>"
      ]
    },
    {
      "cell_type": "markdown",
      "metadata": {
        "id": "6JgrRYtyWUTc",
        "colab_type": "text"
      },
      "source": [
        "# Ten Usability Heuristics\n",
        "\n",
        "### Developed by Lauren Campagna and Maggie Sullivan\n"
      ]
    },
    {
      "cell_type": "markdown",
      "metadata": {
        "id": "ep30Q_iPWdnT",
        "colab_type": "text"
      },
      "source": [
        "For our lab, we will be evaluating the ten heuristics using the following webpage: \n",
        "\n",
        "- https://www.gucci.com/us/en/"
      ]
    },
    {
      "cell_type": "markdown",
      "metadata": {
        "id": "p1w1Wmt5WuFD",
        "colab_type": "text"
      },
      "source": [
        "### Visibility of system status\n",
        "The system should always keep users informed about what is going on, through appropriate feedback within reasonable time.\n",
        "\n",
        "![Screenshot1](https://raw.githubusercontent.com/sulllly/Lab2/master/question%201.jpg)\n",
        "\n",
        "\n",
        "Gucci's website shows the systems status by continually updating the user on their shopping status. When an item is added to the cart, the website shows the update in the shopping cart icon in the top right corner as seen in the screen shot. Another example of visibility of system status is how it says available under the price. This updates shoppers on the items that are out of stock."
      ]
    },
    {
      "cell_type": "markdown",
      "metadata": {
        "id": "gL-x1q02W1Vk",
        "colab_type": "text"
      },
      "source": [
        "### Match between system and the real world\n",
        "The system should speak the users' language, with words, phrases and concepts familiar to the user, rather than system-oriented terms. Follow real-world conventions, making information appear in a natural and logical order.\n",
        "\n",
        "![Screenshot 2](https://raw.githubusercontent.com/sulllly/Lab2/master/question%202.jpg)\n",
        "\n",
        "Gucci uses familiar language to relate to shoppers and make it easy for them to navigate the website. The home page is simple and gives menu options that the majority of people would be familiar with. As seen in the screenshot, the website offers basic categories for the shopper can browse by. \n"
      ]
    },
    {
      "cell_type": "markdown",
      "metadata": {
        "id": "p9WB5-rtZd9I",
        "colab_type": "text"
      },
      "source": [
        "### User control and freedom\n",
        "Users often choose system functions by mistake and will need a clearly marked \"emergency exit\" to leave the unwanted state without having to go through an extended dialogue. Support undo and redo.\n",
        "\n",
        "![Screenshot 3](https://raw.githubusercontent.com/sulllly/Lab2/master/3.JPG)\n",
        "\n",
        "\n",
        "When adding an item to the cart, you have the open to edit or remove the item. This allows shoppers to easily fix any mistakes before finalizing their purchase. It supports the undo function so the shopper does not have to go to the individual product page to add/remove an item before purchasing or start over."
      ]
    },
    {
      "cell_type": "markdown",
      "metadata": {
        "id": "lX7j0pZ8Zedg",
        "colab_type": "text"
      },
      "source": [
        "### Consistency and standards\n",
        "Users should not have to wonder whether different words, situations, or actions mean the same thing. Follow platform conventions.\n",
        "\n",
        "![SCREENSHOT 3](https://raw.githubusercontent.com/sulllly/Lab2/master/4.1.JPG)\n",
        "![Screenshot 4](https://raw.githubusercontent.com/sulllly/Lab2/master/4.2.JPG )\n",
        "\n",
        "\n",
        "It is crucial for websites to be standard and consistent. Shoppers can see this on Guccis website. When they scroll over the womens tab, a drop down menu of subcategories appears. The same happens when the shopper scrolls over children. The shoppers know that this is consistent across the website so they can rely on this method to search the website. In addition, the menu bar stays consistently on the screen no matter where you go on the website."
      ]
    },
    {
      "cell_type": "markdown",
      "metadata": {
        "id": "ER6ArHdmZfSI",
        "colab_type": "text"
      },
      "source": [
        "### Error prevention\n",
        "Even better than good error messages is a careful design which prevents a problem from occurring in the first place. Either eliminate error-prone conditions or check for them and present users with a confirmation option before they commit to the action.\n",
        "\n",
        "![Screenshot 5](https://raw.githubusercontent.com/sulllly/Lab2/master/5.JPG )\n",
        "\n",
        "After shoppers have made their decisions on their purchases, they muct check out. Guccis website requests for all users to enter their email at this point before proceeded to paying and placing the order. If the customer does not enter their email address, an error message appears that says \"Please Enter a Valid Email Address\". This eliminates the possibility for the customer to check out without getting their email first.\n"
      ]
    },
    {
      "cell_type": "markdown",
      "metadata": {
        "id": "WFtkqJ8wZhjx",
        "colab_type": "text"
      },
      "source": [
        "### Recognition rather than recall\n",
        "Design user interfaces to facilitate memory recognition which is easier than recall because there are more cues available to facilitate the retrieval of information from memory.\n",
        "\n",
        "![Screenshot 10](https://raw.githubusercontent.com/sulllly/Lab2/master/recognize.JPG)\n",
        "\n",
        "Gucci designs their website to give easy access to the most common searched for pages. Because all of these categories are linked at the bottom of every page, users will easily know where to find them. As seen in the screenshot, users always know where to find the Contact Us page."
      ]
    },
    {
      "cell_type": "markdown",
      "metadata": {
        "id": "B4xOtXMWZgfp",
        "colab_type": "text"
      },
      "source": [
        "### Flexibility and efficiency of use \n",
        "Accelerators -- unseen by the novice user -- may often speed up the interaction for the expert user such that the system can cater to both inexperienced and experienced users. Allow users to tailor frequent actions.\n",
        "\n",
        "![screenshot 7](https://raw.githubusercontent.com/sulllly/Lab2/master/7.JPG)\n",
        "\n",
        "Shoppers that are experienced with Gucci most likely already know what products they offer and what product they are looking for. These expert users can use filters to search by product, color, size, etc. Less experienced users may not know what is available and what they are looking for so they also have the option to not use any filters as well. Gucci does this to speed up the interaction for expert users while catering to both experienced and inexperienced users."
      ]
    },
    {
      "cell_type": "markdown",
      "metadata": {
        "id": "F968s-f-ZhGA",
        "colab_type": "text"
      },
      "source": [
        "### Aesthetic and minimalist design\n",
        "Dialogues should not contain information which is irrelevant or rarely needed. Every extra unit of information in a dialogue competes with the relevant units of information and diminishes their relative visibility.\n",
        "\n",
        "![Screenshot 9](https://raw.githubusercontent.com/sulllly/Lab2/master/7.JPG)\n",
        "\n",
        "Guccis website as a whole has a very minimalistic design by only providing content that is needed. As seen in the screenshot, a portion of the website shows whats coming for exclusive members. It then shows a button that the shoppers can use to \"Discover More\". This prevents extra information from distracting the shoppers. "
      ]
    },
    {
      "cell_type": "markdown",
      "metadata": {
        "id": "9M3cqXkLZf7B",
        "colab_type": "text"
      },
      "source": [
        "### Help Users Recognize, Diagnose, and Recover from Errors\n",
        "Error messages should be expressed in plain language (no codes), precisely indicate the problem, and constructively suggest a solution.\n",
        "\n",
        "![Screenshot 6](https://raw.githubusercontent.com/sulllly/Lab2/master/6.JPG )\n",
        "\n",
        "After entering an email, the customer is asked to enter their shipping address. If they attempt to proceed without entering a shipping address, and error message appears in plain language asking to fill in missing fields. It also highlights the spaces in red where the customer is missing information. This way it is not only indicating the problem but also suggesting a solution."
      ]
    },
    {
      "cell_type": "markdown",
      "metadata": {
        "id": "x8_uAFYHZifo",
        "colab_type": "text"
      },
      "source": [
        "### Help and documentation\n",
        "Even though it is better if the system can be used without documentation, it may be necessary to provide help and documentation. Any such information should be easy to search, focused on the user's task, list concrete steps to be carried out, and not be too large.\n",
        "\n",
        "![Screenshot 10](https://raw.githubusercontent.com/sulllly/Lab2/master/10.JPG )\n",
        "\n",
        "Guccis website provides a list of Frequently Asked Questions containing information and steps for actions like payments, orders, and product information. This information can be easily searched for. As mentikoned in the previous question, it is linked at the bottom of every page. All of the informatio is focused on the most common problems that users run into when navigating the website. There are specific steps to follow in the answers to every question."
      ]
    }
  ]
}